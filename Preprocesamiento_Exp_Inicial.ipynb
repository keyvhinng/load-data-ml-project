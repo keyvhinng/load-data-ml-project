{
 "cells": [
  {
   "cell_type": "markdown",
   "metadata": {},
   "source": [
    "# Importar Librerias"
   ]
  },
  {
   "cell_type": "code",
   "execution_count": null,
   "metadata": {},
   "outputs": [],
   "source": [
    "# Importar librerias de uso general\n",
    "import pandas as pd\n",
    "import numpy as np\n",
    "import matplotlib.pyplot as plt"
   ]
  },
  {
   "cell_type": "markdown",
   "metadata": {},
   "source": [
    "# Importar Datos"
   ]
  },
  {
   "cell_type": "code",
   "execution_count": null,
   "metadata": {},
   "outputs": [],
   "source": [
    "# Importar los datos en un dataframe\n",
    "pd.set_option('display.max_columns', 500)\n",
    "data = pd.read_csv('loan.csv',low_memory=False)\n",
    "data.head(3)"
   ]
  },
  {
   "cell_type": "code",
   "execution_count": null,
   "metadata": {},
   "outputs": [],
   "source": [
    "# Obtener las estadisticas descriptivas\n",
    "data.describe()"
   ]
  },
  {
   "cell_type": "markdown",
   "metadata": {},
   "source": [
    "# Filtrar Datos"
   ]
  },
  {
   "cell_type": "code",
   "execution_count": null,
   "metadata": {},
   "outputs": [],
   "source": [
    "# Se eliminan las columnas con mas de 90% de sus valores perdidos (nulos)\n",
    "print('Eliminando columnas con mas de 90% de valores perdidos...')\n",
    "print(f'Cantidad de columnas originales: {data.shape[1]}')\n",
    "cols_elim = [x for x in data.columns if data[x].isnull().sum()/data.count().max()>=0.10]\n",
    "print(f'Cantidad de columnas a eliminar: {len(cols_elim)}')\n",
    "data_clear = data.drop(columns=cols_elim,axis=1)\n",
    "print(f'Cantidad de columnas finales: {data_clear.shape[1]}')\n",
    "print('---------------')\n",
    "# Eliminar columnas cuyos nombres contengan id_\n",
    "id_lst=list(map(lambda x: 'id' in x,data_clear.columns))\n",
    "id_column_name_lst = list(data_clear.columns[id_lst])\n",
    "print('Eliminando columnas que contengan un id')\n",
    "print(f'Numero de columnas original: {len(data_clear.columns.tolist())}')\n",
    "data_clear.drop(columns=id_column_name_lst, axis=1,inplace=True)\n",
    "print(f'Numero de columnas filtrado: {len(data_clear.columns.tolist())}')\n",
    "print('---------------')\n",
    "# Eliminar columnas cuyos nombres contengan _d (fechas)\n",
    "id_lst=list(map(lambda x: '_d' in x,data_clear.columns))\n",
    "id_column_name_lst = list(data_clear.columns[id_lst])\n",
    "print('Eliminando columnas que contengan un dato que sea fecha (terminan en _d)')\n",
    "print(f'Numero de columnas original: {len(data_clear.columns.tolist())}')\n",
    "data_clear.drop(columns=id_column_name_lst, axis=1,inplace=True)\n",
    "print(f'Numero de columnas filtrado: {len(data_clear.columns.tolist())}')"
   ]
  },
  {
   "cell_type": "code",
   "execution_count": null,
   "metadata": {},
   "outputs": [],
   "source": [
    "# Buscar las columnas que tienen datos potencialmente categoricos y convertir sus valores de acuerdo al mismo\n",
    "print('Convirtiendo las categorias nominales en numericas mediante codificacion')\n",
    "cat_cols = data_clear.select_dtypes(include='object').columns.tolist()\n",
    "cat_cols.remove('loan_status')\n",
    "print(f'Se encontraron {len(cat_cols)} columnas por convertir.')\n",
    "cat_dict = dict()\n",
    "for col in cat_cols:\n",
    "    data_clear[col] = data_clear[col].astype('category')\n",
    "    cat_dict[col] = {i+1:c for i,c in enumerate(data_clear[col].cat.categories)}\n",
    "    data_clear[col] = data_clear[col].cat.codes+1\n",
    "print('Columnas convertidas con exito.')\n",
    "print('---------------')\n",
    "\n",
    "# Se mira la cantidad de categorias que tiene cada columna. Asimismo, se identifican aquellas que tienen una cantidad\n",
    "# muy alta de categorias distintas (>10% de la cantidad de registros de la columna)\n",
    "print(f'Eliminando columnas nominales que tienen demasiados valores distintos (limite: 10% del total de la columna)')\n",
    "debug = False\n",
    "cols_elim = []\n",
    "for keys,values in cat_dict.items():\n",
    "    if debug:\n",
    "        print(f'{keys} => {len(values)} de {data_clear.count().max()} ({round(100*len(values)/data_clear.count().max(),2)}%)')\n",
    "    if len(values)/data_clear.count().max() >= 0.1:\n",
    "        cols_elim.append(keys)\n",
    "print(f'Cantidad actual de columnas: {len(data_clear.columns.tolist())}')\n",
    "data_clear.drop(columns=cols_elim, axis=1, inplace=True)\n",
    "print(f'Cantidad nueva de columnas: {len(data_clear.columns.tolist())}')\n",
    "print('---------------')\n",
    "\n",
    "# Se rellenan los vacios con la mediana\n",
    "print('Rellenando los vacios con la mediana...')\n",
    "data_clear = data_clear.fillna(value=data_clear.median())\n",
    "data_clear = data_clear.reset_index(drop=True)\n",
    "print('Se rellenaron los vacios.')"
   ]
  },
  {
   "cell_type": "code",
   "execution_count": null,
   "metadata": {},
   "outputs": [],
   "source": [
    "# Se explora la variable target (loan_status)\n",
    "import warnings\n",
    "def analisis_agregacion(dataframe,groupby_col,idx_opt):\n",
    "    with warnings.catch_warnings():\n",
    "        warnings.filterwarnings('ignore',category=FutureWarning)\n",
    "        #aggregation_function = {'id':{'cuenta':'count'},'loan_amnt':{'suma':'sum','contador':lambda x: int(sum(x)/data2.loc[x.index].loan_amnt.sum())}}\n",
    "        aggregation_function = {'loan_amnt':['count','sum']}\n",
    "        data_res=dataframe.groupby(groupby_col,as_index=idx_opt).agg(aggregation_function)\n",
    "    data_res['loan_amnt','porcentaje_cuenta'] = round(data_res['loan_amnt','count']/data_res['loan_amnt'].sum()[0]*100,2)\n",
    "    data_res['loan_amnt','tporcentaje_monto'] = round(data_res['loan_amnt','sum']/data_res['loan_amnt'].sum()[1]*100,2)\n",
    "    return data_res.sort_index(axis=1)\n",
    "\n",
    "print('Distribucion de la variable loan_status')\n",
    "print(analisis_agregacion(data_clear,'loan_status',True))"
   ]
  },
  {
   "cell_type": "code",
   "execution_count": null,
   "metadata": {},
   "outputs": [],
   "source": [
    "# Se observa que no todos los valores son validos o aplicables al caso.\n",
    "# Por ello, se filtran los registros inconsistentes o no aplicables para analisis:\n",
    "#    Current -> No aplicable porque son préstamos dentro de su periodo de pago.\n",
    "#    Does not meet the credit policy (...) -> Inconsistente. No se sabe si es un error o un valor correcto.\n",
    "#    Issued -> No aplicable porque son créditos recién emitidos.\n",
    "#    In grace period -> No aplicable porque son créditos en periodo de gracia.\n",
    "print('Eliminando registros inconsistentes o no aplicables para analisis.')\n",
    "estados_eliminar = {'In Grace Period','Current','Does not meet the credit policy. Status:Fully Paid', 'Does not meet the credit policy. Status:Charged Off', 'Issued'}\n",
    "data_clear_final = data_clear\n",
    "for estado in estados_eliminar:\n",
    "    data_clear_final.drop(data_clear_final[data_clear_final.loan_status==estado].index,inplace=True)\n",
    "    print(f'Eliminado {estado}. Quedan: {data_clear_final.count()[0]}')\n",
    "print('Se eliminaron registros no aplicables')\n",
    "print('Nueva distribucion:')\n",
    "print('==============================================================================================')\n",
    "print(analisis_agregacion(data_clear_final,'loan_status',True))\n",
    "print('==============================================================================================')"
   ]
  },
  {
   "cell_type": "code",
   "execution_count": null,
   "metadata": {},
   "outputs": [],
   "source": [
    "# Se genera la variable de destino (target) con la siguiente codificacion: \n",
    "# -1 -> Prestamo no pagado.\n",
    "#   Registros cuyo estado es diferente a 'Fully Paid', seran agrupados en la clase 'no pagado' = -1\n",
    "# +1 -> Prestamo pagado\n",
    "#   Registros cuyo estado es igual a 'Fully Paid'    , seran agrupados en la clase 'pagado'    = +1\n",
    "print('Creando columna de clase...')\n",
    "data_clear_final['class'] = 2*(data_clear_final['loan_status'] == 'Fully Paid')-1\n",
    "print('==============================================================================================')\n",
    "print('Distribucion de la nueva columna:')\n",
    "print('')\n",
    "print(analisis_agregacion(data_clear_final,['class','loan_status'],True))\n",
    "\n",
    "print('==============================================================================================')\n",
    "print('Se separa el set X del Y')\n",
    "X = data_clear_final[data_clear_final.drop(columns=['loan_status','class'],axis=1).columns.tolist()]\n",
    "y = data_clear_final['class']\n",
    "print(f'Las dimensiones de X son: {X.shape}')\n",
    "print(f'Las dimensiones de y son: {y.shape}')\n"
   ]
  },
  {
   "cell_type": "code",
   "execution_count": null,
   "metadata": {},
   "outputs": [],
   "source": [
    "# Sugerencia: borrar columnas con poca varianza"
   ]
  },
  {
   "cell_type": "markdown",
   "metadata": {},
   "source": [
    "# Preparar Datos"
   ]
  },
  {
   "cell_type": "code",
   "execution_count": null,
   "metadata": {},
   "outputs": [],
   "source": [
    "# Preparacion experimental\n",
    "from sklearn.model_selection import train_test_split\n",
    "from sklearn.preprocessing import StandardScaler\n",
    "\n",
    "# Separar el conjunto de entrenamiento/validacion del conjunto de prueba\n",
    "print('Separando el conjunto de entrenamiento del de pruebas')\n",
    "print(f'El tamaño original de X es {len(X)}')\n",
    "X_trainval, X_test, y_trainval, y_test = train_test_split(X, y, test_size=0.90, random_state=40)\n",
    "print(f'El tamaño del set de entrenamiento es: {len(X_trainval)}')\n",
    "print(f'El tamaño del set de pruebas es: {len(X_test)}')\n",
    "#print(f'El tamaño del set entrenamiento + pruebas es {len(X_trainval+X_test)}')\n",
    "\n",
    "# Normalizar el conjunto de entrenamiento/valdiacion\n",
    "print('')\n",
    "print('Ejecutando normalizacion...')\n",
    "scaler = StandardScaler().fit(X_trainval)\n",
    "X_trainval_scaled = scaler.transform(X_trainval)\n",
    "print('Set de pruebas normalizado')"
   ]
  },
  {
   "cell_type": "markdown",
   "metadata": {},
   "source": [
    "# Seleccion de Caracteristicas (feature selection)"
   ]
  },
  {
   "cell_type": "code",
   "execution_count": null,
   "metadata": {},
   "outputs": [],
   "source": [
    "# importar librerias para la seleccion de caracteristicas\n",
    "from sklearn.svm import SVC\n",
    "from sklearn.feature_selection import RFE\n",
    "from sklearn.linear_model import LogisticRegression\n",
    "from sklearn.pipeline import Pipeline\n",
    "from sklearn.model_selection import GridSearchCV"
   ]
  },
  {
   "cell_type": "code",
   "execution_count": null,
   "metadata": {},
   "outputs": [],
   "source": [
    "# Sea conjunto_n_caracteristicas = {10,20,30} el conjunto de dimensiones\n",
    "# Sea conjunto_algoritmos = {Logistic_Regresion, RandomForest, SVM}\n",
    "# Para cada n_caracteristicas en conjunto_n_caracteristicas:\n",
    "#   Para cada algoritmo en conjunto_algoritmo:\n",
    "#      conjunto_caracteristas[algoritmo] = reducirCaracteristicas(n_dim,algoritmo)\n",
    "#   caracteristicas_comunes[n_caracteristicas] = unirCaracteristicas(conjunto_caracteristicas)\n",
    "#   scores[n_caracteristicas] = entrenarClasificador(caracteristicas_comunes)\n",
    "# mejor_conjunto_caracteristicas = encontrarMejorConjunto(caracteristicas_comunes, scores)"
   ]
  },
  {
   "cell_type": "code",
   "execution_count": null,
   "metadata": {},
   "outputs": [],
   "source": [
    "# Clasificador SVM de kernel lineal\n",
    "svc = SVC(kernel='linear', C=1)\n",
    "# Se calcula las 30 caracteristicas mas importantes para este modelo\n",
    "rfe_svc = RFE(estimator=svc, n_features_to_select=30, step=5, verbose=2)\n",
    "rfe_svc.fit(X_trainval, y_trainval)\n",
    "svc_selected_columns = [X_trainval.columns.values[i] for i in range(len(X_trainval.columns.values)) if  rfe_svc.support_[i]]"
   ]
  },
  {
   "cell_type": "code",
   "execution_count": null,
   "metadata": {},
   "outputs": [],
   "source": [
    "# Clasificador de Regresion Logistica\n",
    "lr = LogisticRegression()\n",
    "# Se calcula las 30 caracteristicas mas importantes para este modelo\n",
    "rfe_lr = RFE(estimator=lr, n_features_to_select=30, step=5, verbose=2)\n",
    "rfe_lr.fit(X_trainval, y_trainval)\n",
    "lr_selected_columns = [X_trainval.columns.values[i] for i in range(len(X_trainval.columns.values)) if  rfe_lr.support_[i]]"
   ]
  },
  {
   "cell_type": "code",
   "execution_count": 130,
   "metadata": {},
   "outputs": [
    {
     "name": "stdout",
     "output_type": "stream",
     "text": [
      "Numero de caracteristicas comunes: 27\n"
     ]
    }
   ],
   "source": [
    "# Cada clasificador utilizado ha generado un set de caracteristicas mas relevantes segun cada modelo\n",
    "# Ahora, se genera una mascara para indicar si una caracteristica ha estado presentes en cada modelo analizado\n",
    "common_features_mask = np.logical_and(rfe_svc.support_,rfe_lr.support_)\n",
    "print(f'Numero de caracteristicas comunes: {np.sum(common_features_mask)}')"
   ]
  },
  {
   "cell_type": "code",
   "execution_count": 143,
   "metadata": {},
   "outputs": [],
   "source": [
    "# Columnas a eliminar segun la mascara generada\n",
    "columns_to_be_dropped = [X_trainval.columns.values[i] for i in range(len(X_trainval.columns.values)) if  not(common_features_mask[i])]"
   ]
  },
  {
   "cell_type": "code",
   "execution_count": 145,
   "metadata": {},
   "outputs": [],
   "source": [
    "# Se remueve los datos referentes a las caracteristicas a eliminar\n",
    "X_trainval_reduced = X_trainval.drop(columns_to_be_dropped,axis=1)\n",
    "X_test_reduced = X_test.drop(columns_to_be_dropped, axis=1)"
   ]
  },
  {
   "cell_type": "markdown",
   "metadata": {},
   "source": [
    "# Construir Clasificador"
   ]
  },
  {
   "cell_type": "code",
   "execution_count": 147,
   "metadata": {},
   "outputs": [],
   "source": [
    "# Se importa la libreria para el clasificador  de Random Forest\n",
    "from sklearn.ensemble import RandomForestClassifier"
   ]
  },
  {
   "cell_type": "code",
   "execution_count": 159,
   "metadata": {},
   "outputs": [],
   "source": [
    "# Se genera una instancia del clasificador\n",
    "clf = RandomForestClassifier(n_estimators=10, max_depth=None, min_samples_split=2, random_state=0)"
   ]
  },
  {
   "cell_type": "code",
   "execution_count": 160,
   "metadata": {},
   "outputs": [
    {
     "data": {
      "text/plain": [
       "RandomForestClassifier(bootstrap=True, class_weight=None, criterion='gini',\n",
       "            max_depth=None, max_features='auto', max_leaf_nodes=None,\n",
       "            min_impurity_decrease=0.0, min_impurity_split=None,\n",
       "            min_samples_leaf=1, min_samples_split=2,\n",
       "            min_weight_fraction_leaf=0.0, n_estimators=10, n_jobs=1,\n",
       "            oob_score=False, random_state=0, verbose=0, warm_start=False)"
      ]
     },
     "execution_count": 160,
     "metadata": {},
     "output_type": "execute_result"
    }
   ],
   "source": [
    "# Se entrena el clasificador con los datos filtrados por la reduccion de caracteristicas\n",
    "clf.fit(X_trainval_reduced, y_trainval)"
   ]
  },
  {
   "cell_type": "markdown",
   "metadata": {},
   "source": [
    "# Evaluar Modelo"
   ]
  },
  {
   "cell_type": "code",
   "execution_count": 206,
   "metadata": {},
   "outputs": [],
   "source": [
    "# Se importan librerias relacionadas a la evaluacion de modelos\n",
    "from sklearn.metrics import confusion_matrix\n",
    "from sklearn.metrics import classification_report\n",
    "import itertools"
   ]
  },
  {
   "cell_type": "code",
   "execution_count": 163,
   "metadata": {},
   "outputs": [],
   "source": [
    "# Se predice la clase para los datos de prueba\n",
    "y_pred = clf.predict(X_test_reduced)"
   ]
  },
  {
   "cell_type": "code",
   "execution_count": 178,
   "metadata": {},
   "outputs": [],
   "source": [
    "# funcion para general el grafico de matriz de confusion\n",
    "# adaptado de: http://scikit-learn.org/stable/auto_examples/model_selection/plot_confusion_matrix.html#sphx-glr-auto-examples-model-selection-plot-confusion-matrix-py\n",
    "def plot_confusion_matrix(cm, classes,\n",
    "                          normalize=False,\n",
    "                          title='Confusion matrix',\n",
    "                          cmap=plt.cm.Blues):\n",
    "    \"\"\"\n",
    "    This function prints and plots the confusion matrix.\n",
    "    Normalization can be applied by setting `normalize=True`.\n",
    "    \"\"\"\n",
    "    if normalize:\n",
    "        cm = cm.astype('float') / cm.sum(axis=1)[:, np.newaxis]\n",
    "        print(\"Normalized confusion matrix\")\n",
    "    else:\n",
    "        print('Confusion matrix, without normalization')\n",
    "\n",
    "    print(cm)\n",
    "\n",
    "    plt.imshow(cm, interpolation='nearest', cmap=cmap)\n",
    "    plt.title(title)\n",
    "    plt.colorbar()\n",
    "    tick_marks = np.arange(len(classes))\n",
    "    plt.xticks(tick_marks, classes, rotation=45)\n",
    "    plt.yticks(tick_marks, classes)\n",
    "\n",
    "    fmt = '.2f' if normalize else 'd'\n",
    "    thresh = cm.max() / 2.\n",
    "    for i, j in itertools.product(range(cm.shape[0]), range(cm.shape[1])):\n",
    "        plt.text(j, i, format(cm[i, j], fmt),\n",
    "                 horizontalalignment=\"center\",\n",
    "                 color=\"white\" if cm[i, j] > thresh else \"black\")\n",
    "\n",
    "    plt.tight_layout()\n",
    "    plt.ylabel('True label')\n",
    "    plt.xlabel('Predicted label')"
   ]
  },
  {
   "cell_type": "code",
   "execution_count": 169,
   "metadata": {},
   "outputs": [],
   "source": [
    "# matriz de confusion\n",
    "cnf_matrix = confusion_matrix(y_test, y_pred)"
   ]
  },
  {
   "cell_type": "code",
   "execution_count": 202,
   "metadata": {},
   "outputs": [],
   "source": [
    "# Etiqueta de las clases\n",
    "class_names = ['No Pagado','Pagado']"
   ]
  },
  {
   "cell_type": "code",
   "execution_count": 203,
   "metadata": {},
   "outputs": [
    {
     "name": "stdout",
     "output_type": "stream",
     "text": [
      "Confusion matrix, without normalization\n",
      "[[ 53764    617]\n",
      " [    67 186877]]\n"
     ]
    },
    {
     "data": {
      "image/png": "[encoded data removed]",
      "text/plain": [
       "<matplotlib.figure.Figure at 0x7f340061abe0>"
      ]
     },
     "metadata": {},
     "output_type": "display_data"
    }
   ],
   "source": [
    "# Se genera la grafica de la matriz de confusion\n",
    "plt.figure()\n",
    "plot_confusion_matrix(cnf_matrix, classes=class_names,\n",
    "                      title='Confusion matrix, without normalization')"
   ]
  },
  {
   "cell_type": "code",
   "execution_count": 212,
   "metadata": {},
   "outputs": [],
   "source": [
    "# Metricas parfa la evaluacion de resultados\n",
    "# tn = veraderos negativos\n",
    "# fp = falsos positivos\n",
    "# fn = falsos negativos\n",
    "# tp = verdaderos positivos\n",
    "tn, fp, fn, tp = confusion_matrix(y_test, y_pred).ravel()"
   ]
  },
  {
   "cell_type": "code",
   "execution_count": 223,
   "metadata": {},
   "outputs": [
    {
     "name": "stdout",
     "output_type": "stream",
     "text": [
      "score del modelo : 0.9971656479850823\n",
      "precison         : 0.9967092280286303\n",
      "recall           : 0.999641603902773\n"
     ]
    }
   ],
   "source": [
    "# Se imprimen las metricas para evaluar los resultados\n",
    "print(f'score del modelo : {clf.score(X_test_reduced, y_test)}')\n",
    "print(f'precison         : {(tp)/(tp+fp)}')\n",
    "print(f'recall           : {tp/(tp+fn)}')"
   ]
  }
 ],
 "metadata": {
  "kernelspec": {
   "display_name": "Python 3",
   "language": "python",
   "name": "python3"
  },
  "language_info": {
   "codemirror_mode": {
    "name": "ipython",
    "version": 3
   },
   "file_extension": ".py",
   "mimetype": "text/x-python",
   "name": "python",
   "nbconvert_exporter": "python",
   "pygments_lexer": "ipython3",
   "version": "3.6.4"
  }
 },
 "nbformat": 4,
 "nbformat_minor": 2
}
